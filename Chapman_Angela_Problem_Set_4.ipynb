{
 "cells": [
  {
   "cell_type": "markdown",
   "metadata": {},
   "source": [
    "# Importing Libraries"
   ]
  },
  {
   "cell_type": "code",
   "execution_count": 1,
   "metadata": {},
   "outputs": [],
   "source": [
    "import pandas as pd\n",
    "import numpy as np\n",
    "from bs4 import BeautifulSoup \n",
    "import requests\n"
   ]
  },
  {
   "cell_type": "markdown",
   "metadata": {},
   "source": [
    "# Zipcode Function"
   ]
  },
  {
   "cell_type": "code",
   "execution_count": 9,
   "metadata": {},
   "outputs": [],
   "source": [
    "# Purpose of function is to extract specific information (i.e. city, state, current temperature in Fahrenheit, zipcode)\n",
    "# based on the parameter of zipcode\n",
    "def extract_info(zipcode):\n",
    "    \n",
    "    # turn given zipcode into a str\n",
    "    zipcode = str(zipcode)\n",
    "    \n",
    "    # Checks if the given zipcode has the length of 5 numbers\n",
    "    if len(zipcode) != 5:\n",
    "        print(\"Not a valid entry for zipcode, please try again\")\n",
    "        \n",
    "    # Checks if zipcode inside string has numbers/digits so something\n",
    "    # like 'Hello' as the zipcode will not pass \n",
    "    elif zipcode.isdigit() == False:\n",
    "        print(\"Not a valid entry for zipcode, please try again\")\n",
    "    \n",
    "    else:\n",
    "        # Sets up the url for scraped website\n",
    "        url = 'https://weather.com/weather/today/l/' + zipcode + ':4:US'\n",
    "        response = requests.get(url)\n",
    "        \n",
    "        # Checks whether a zipcode is actually real and valid by determining\n",
    "        # if response status code returns an invalid response (404)\n",
    "        if response.status_code == 404:\n",
    "            print(\"Not a valid url based on an invalid zipcode, please try again\")\n",
    "        else:\n",
    "    \n",
    "\n",
    "            soup = BeautifulSoup(response.content,'html.parser')\n",
    "            \n",
    "            # Determines city of given zipcode by accessing the title of the content \n",
    "            # and splitting/indexing into the specfic city name\n",
    "            city_title = soup.title.text\n",
    "            city = city_title.split(',')[0]\n",
    "            print(city)\n",
    "            \n",
    "            # Accessing the same title of the content, index/split into the the specific state\n",
    "            state = city_title.split(',')[1].split(' ')[1]\n",
    "            print(state)\n",
    "            \n",
    "            # Find all the atrributes where 'class'/'data-testid' and 'CurrentConditions/TemperatureValue'(current temperature)\n",
    "            # When the temperature i visble, split/index into that particular temperature value\n",
    "            temp_line = soup.find_all(attrs = {'class':\"CurrentConditions--tempValue--3KcTQ\", 'data-testid':\"TemperatureValue\"})\n",
    "            temp_line = str(temp_line[0])\n",
    "            print(temp_line.split('>')[1].split('<')[0])\n",
    "            \n",
    "            # Access the context under a particular script where the zipcode resides\n",
    "            # index into the particular zipcode\n",
    "            zip_script = soup.find_all('script')[10].text\n",
    "            print(zip_script[65:70])\n",
    "\n",
    "    \n",
    "    \n",
    "    \n",
    "   \n",
    "    \n",
    "    "
   ]
  },
  {
   "cell_type": "markdown",
   "metadata": {},
   "source": [
    "# Executing Function"
   ]
  },
  {
   "cell_type": "code",
   "execution_count": 12,
   "metadata": {},
   "outputs": [
    {
     "name": "stdout",
     "output_type": "stream",
     "text": [
      "San Diego\n",
      "CA\n",
      "58°\n",
      "92101\n"
     ]
    }
   ],
   "source": [
    "extract_info(92101)"
   ]
  },
  {
   "cell_type": "markdown",
   "metadata": {},
   "source": [
    "# Bonus Points - Determining a Valid Zipcode"
   ]
  },
  {
   "cell_type": "code",
   "execution_count": 13,
   "metadata": {},
   "outputs": [
    {
     "name": "stdout",
     "output_type": "stream",
     "text": [
      "---------------------------------------------------\n",
      "San Diego\n",
      "CA\n",
      "56°\n",
      "92122\n",
      "---------------------------------------------------\n",
      "San Diego\n",
      "CA\n",
      "56°\n",
      "92122\n",
      "---------------------------------------------------\n",
      "Not a valid entry for zipcode, please try again\n",
      "---------------------------------------------------\n",
      "Not a valid url based on an invalid zipcode, please try again\n",
      "---------------------------------------------------\n",
      "Death Valley\n",
      "CA\n",
      "64°\n",
      "92328\n",
      "---------------------------------------------------\n",
      "Not a valid entry for zipcode, please try again\n"
     ]
    }
   ],
   "source": [
    "zipcode_list = [92122, str(92122), 9212, 99999, 92328, 'Hello, is this weather.com?']\n",
    "\n",
    "for zipcode in zipcode_list:\n",
    "    print('---------------------------------------------------')\n",
    "    extract_info(zipcode)"
   ]
  }
 ],
 "metadata": {
  "kernelspec": {
   "display_name": "Python 3",
   "language": "python",
   "name": "python3"
  },
  "language_info": {
   "codemirror_mode": {
    "name": "ipython",
    "version": 3
   },
   "file_extension": ".py",
   "mimetype": "text/x-python",
   "name": "python",
   "nbconvert_exporter": "python",
   "pygments_lexer": "ipython3",
   "version": "3.7.6"
  }
 },
 "nbformat": 4,
 "nbformat_minor": 4
}
