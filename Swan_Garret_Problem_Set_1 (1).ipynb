{
 "cells": [
  {
   "cell_type": "markdown",
   "metadata": {},
   "source": [
    "## Import Stuff"
   ]
  },
  {
   "cell_type": "code",
   "execution_count": 1,
   "metadata": {},
   "outputs": [
    {
     "data": {
      "text/html": [
       "<div>\n",
       "<style scoped>\n",
       "    .dataframe tbody tr th:only-of-type {\n",
       "        vertical-align: middle;\n",
       "    }\n",
       "\n",
       "    .dataframe tbody tr th {\n",
       "        vertical-align: top;\n",
       "    }\n",
       "\n",
       "    .dataframe thead th {\n",
       "        text-align: right;\n",
       "    }\n",
       "</style>\n",
       "<table border=\"1\" class=\"dataframe\">\n",
       "  <thead>\n",
       "    <tr style=\"text-align: right;\">\n",
       "      <th></th>\n",
       "      <th>quizzes</th>\n",
       "      <th>attendedClass</th>\n",
       "      <th>finalgrade</th>\n",
       "      <th>final_EXAM</th>\n",
       "      <th>student</th>\n",
       "    </tr>\n",
       "  </thead>\n",
       "  <tbody>\n",
       "    <tr>\n",
       "      <th>0</th>\n",
       "      <td>78.50</td>\n",
       "      <td>1</td>\n",
       "      <td>99.38</td>\n",
       "      <td>46</td>\n",
       "      <td>Linnie Lietz</td>\n",
       "    </tr>\n",
       "    <tr>\n",
       "      <th>1</th>\n",
       "      <td>64.25</td>\n",
       "      <td>0</td>\n",
       "      <td>95.78</td>\n",
       "      <td>45</td>\n",
       "      <td>Mitch Mustain</td>\n",
       "    </tr>\n",
       "    <tr>\n",
       "      <th>2</th>\n",
       "      <td>76.75</td>\n",
       "      <td>0</td>\n",
       "      <td>97.42</td>\n",
       "      <td>41</td>\n",
       "      <td>Salina Chavera</td>\n",
       "    </tr>\n",
       "    <tr>\n",
       "      <th>3</th>\n",
       "      <td>69.00</td>\n",
       "      <td>1</td>\n",
       "      <td>92.50</td>\n",
       "      <td>38</td>\n",
       "      <td>Kimberely Conwell</td>\n",
       "    </tr>\n",
       "    <tr>\n",
       "      <th>4</th>\n",
       "      <td>64.00</td>\n",
       "      <td>0</td>\n",
       "      <td>92.50</td>\n",
       "      <td>39</td>\n",
       "      <td>Zack Burk</td>\n",
       "    </tr>\n",
       "    <tr>\n",
       "      <th>...</th>\n",
       "      <td>...</td>\n",
       "      <td>...</td>\n",
       "      <td>...</td>\n",
       "      <td>...</td>\n",
       "      <td>...</td>\n",
       "    </tr>\n",
       "    <tr>\n",
       "      <th>166</th>\n",
       "      <td>73.50</td>\n",
       "      <td>0</td>\n",
       "      <td>96.25</td>\n",
       "      <td>45</td>\n",
       "      <td>Dana Malta</td>\n",
       "    </tr>\n",
       "    <tr>\n",
       "      <th>167</th>\n",
       "      <td>75.50</td>\n",
       "      <td>0</td>\n",
       "      <td>98.13</td>\n",
       "      <td>44</td>\n",
       "      <td>Sixta Heyden</td>\n",
       "    </tr>\n",
       "    <tr>\n",
       "      <th>168</th>\n",
       "      <td>41.00</td>\n",
       "      <td>0</td>\n",
       "      <td>69.38</td>\n",
       "      <td>32</td>\n",
       "      <td>Brianne Broome</td>\n",
       "    </tr>\n",
       "    <tr>\n",
       "      <th>169</th>\n",
       "      <td>77.00</td>\n",
       "      <td>0</td>\n",
       "      <td>101.25</td>\n",
       "      <td>47</td>\n",
       "      <td>Elouise Weatherholt</td>\n",
       "    </tr>\n",
       "    <tr>\n",
       "      <th>170</th>\n",
       "      <td>72.00</td>\n",
       "      <td>0</td>\n",
       "      <td>92.81</td>\n",
       "      <td>38</td>\n",
       "      <td>Addie Maharaj</td>\n",
       "    </tr>\n",
       "  </tbody>\n",
       "</table>\n",
       "<p>171 rows × 5 columns</p>\n",
       "</div>"
      ],
      "text/plain": [
       "     quizzes  attendedClass  finalgrade  final_EXAM              student\n",
       "0      78.50              1       99.38          46         Linnie Lietz\n",
       "1      64.25              0       95.78          45        Mitch Mustain\n",
       "2      76.75              0       97.42          41       Salina Chavera\n",
       "3      69.00              1       92.50          38    Kimberely Conwell\n",
       "4      64.00              0       92.50          39            Zack Burk\n",
       "..       ...            ...         ...         ...                  ...\n",
       "166    73.50              0       96.25          45           Dana Malta\n",
       "167    75.50              0       98.13          44         Sixta Heyden\n",
       "168    41.00              0       69.38          32       Brianne Broome\n",
       "169    77.00              0      101.25          47  Elouise Weatherholt\n",
       "170    72.00              0       92.81          38        Addie Maharaj\n",
       "\n",
       "[171 rows x 5 columns]"
      ]
     },
     "execution_count": 1,
     "metadata": {},
     "output_type": "execute_result"
    }
   ],
   "source": [
    "# Importing different Python libraries and packages\n",
    "import pandas as pd\n",
    "import numpy as np\n",
    "import seaborn as sns\n",
    "import matplotlib.pyplot as plt\n",
    "\n",
    "# Importing and saving the dataset for this problem set\n",
    "df = pd.read_csv(\"problem_set_1_data.csv\")\n",
    "df"
   ]
  },
  {
   "cell_type": "markdown",
   "metadata": {},
   "source": [
    "## DataFrame Manipulation and Summary"
   ]
  },
  {
   "cell_type": "code",
   "execution_count": 9,
   "metadata": {},
   "outputs": [
    {
     "name": "stdout",
     "output_type": "stream",
     "text": [
      "----------------------------------------\n",
      "First 5 rows of the DataFrame\n",
      "   quiz_total  attended  final_grade  final_exam               name\n",
      "0       78.50         1        99.38          46       Linnie Lietz\n",
      "1       64.25         0        95.78          45      Mitch Mustain\n",
      "2       76.75         0        97.42          41     Salina Chavera\n",
      "3       69.00         1        92.50          38  Kimberely Conwell\n",
      "4       64.00         0        92.50          39          Zack Burk\n",
      "----------------------------------------\n",
      "Last 5 rows of the DataFrame\n",
      "     quiz_total  attended  final_grade  final_exam                 name\n",
      "166        73.5         0        96.25          45           Dana Malta\n",
      "167        75.5         0        98.13          44         Sixta Heyden\n",
      "168        41.0         0        69.38          32       Brianne Broome\n",
      "169        77.0         0       101.25          47  Elouise Weatherholt\n",
      "170        72.0         0        92.81          38        Addie Maharaj\n",
      "----------------------------------------\n",
      "Description and Summary Statistics of the DataFrame\n",
      "       quiz_total    attended  final_grade  final_exam\n",
      "count  171.000000  171.000000   171.000000  171.000000\n",
      "mean    69.131579    0.192982    91.855380   39.672515\n",
      "std      9.488473    0.395798     9.487795    5.511304\n",
      "min      0.000000    0.000000     2.500000    0.000000\n",
      "25%     65.500000    0.000000    89.380000   37.000000\n",
      "50%     72.000000    0.000000    93.130000   40.000000\n",
      "75%     75.500000    0.000000    96.360000   44.000000\n",
      "max     79.500000    1.000000   104.380000   49.000000\n"
     ]
    }
   ],
   "source": [
    "# Rename the dataframe columns using the rename function in Pandas\n",
    "df = df.rename(columns = {'quizzes':'quiz_total', 'attendedClass' : 'attended', 'finalgrade': 'final_grade', 'final_EXAM': 'final_exam', 'student': 'name'})\n",
    "\n",
    "# Printing the head, or first 5, and tail, or last 5, of the dataframe information\n",
    "print('----------------------------------------')\n",
    "print(\"First 5 rows of the DataFrame\")\n",
    "print(df.head())\n",
    "\n",
    "print('----------------------------------------')\n",
    "print(\"Last 5 rows of the DataFrame\")\n",
    "print(df.tail())\n",
    "\n",
    "# Summary of the Dataframe Numeric Information\n",
    "print('----------------------------------------')\n",
    "print(\"Description and Summary Statistics of the DataFrame\")\n",
    "print(df.describe())\n"
   ]
  },
  {
   "cell_type": "markdown",
   "metadata": {},
   "source": [
    "- For the \"quiz_total\" column, the average quiz score was 69.13%\n",
    "- The number of 0.192982 for those who attended could represent the percentage of students who attended the class schronously on Zoom (19.3%)\n",
    "- The average final grade that the class as a whole received was around 91.86% which is an A-\n",
    "- The average score that each student received on their final exam was around 39.68 out of 50 potentially"
   ]
  },
  {
   "cell_type": "markdown",
   "metadata": {},
   "source": [
    "## Effects of Class Attendance on Grades"
   ]
  },
  {
   "cell_type": "code",
   "execution_count": 10,
   "metadata": {},
   "outputs": [
    {
     "name": "stdout",
     "output_type": "stream",
     "text": [
      "----------------------------------------\n",
      "The averages of the final grade, final exam, and quiz total based on students that attended class\n",
      "          quiz_total  final_grade  final_exam\n",
      "attended                                     \n",
      "1               72.5    95.072121   40.636364\n",
      "----------------------------------------\n",
      "The averages of the final grade, final exam, and quiz total based on students that did not attend class\n",
      "          quiz_total  final_grade  final_exam\n",
      "attended                                     \n",
      "0          68.326087    91.086159   39.442029\n"
     ]
    }
   ],
   "source": [
    "# Basing the Pandas DataFrame on those who attended class\n",
    "attend_df = df[df['attended'] == 1]\n",
    "print('----------------------------------------')\n",
    "print('The averages of the final grade, final exam, and quiz total based on students that attended class')\n",
    "print(attend_df.groupby('attended').mean())\n",
    "\n",
    "# Basing the Pandas DtaFrame on those who did not attend class\n",
    "absent_df = df[df['attended'] == 0]\n",
    "print('----------------------------------------')\n",
    "print('The averages of the final grade, final exam, and quiz total based on students that did not attend class')\n",
    "print(absent_df.groupby('attended').mean())\n",
    "\n",
    "        "
   ]
  },
  {
   "cell_type": "markdown",
   "metadata": {},
   "source": [
    "- The overall result of class attendence on overall grades conclude that students who attended class more frequently had higher average grades compared to absent students in the following: final grade (95.07% vs 91.09%), quiz total (72.5% vs 68.33%), and final exam grade (40.64% vs 39.44%)"
   ]
  },
  {
   "cell_type": "markdown",
   "metadata": {},
   "source": [
    "## Bonus Points - Who Cheated?"
   ]
  },
  {
   "cell_type": "code",
   "execution_count": 8,
   "metadata": {},
   "outputs": [
    {
     "name": "stdout",
     "output_type": "stream",
     "text": [
      "['Addie\\xa0Maharaj', 'Jaraham Eidda']\n"
     ]
    }
   ],
   "source": [
    "def find_cheaters():\n",
    "    duplicated_list = df.duplicated(subset = ['quiz_total', 'final_grade', 'final_exam'], keep = False)\n",
    "    name_list = list(df['name'])\n",
    "    \n",
    "    new_df = pd.DataFrame({'Name': name_list, 'Duplicates': duplicated_list})\n",
    "    new_dict = dict(sorted(new_df.values.tolist()))\n",
    "#     print(new_dict)\n",
    "    \n",
    "    cheaters = []\n",
    "    \n",
    "    for key, value in new_dict.items():\n",
    "        if value == False:\n",
    "            pass\n",
    "        else:\n",
    "            names = key\n",
    "            cheaters.append(names)\n",
    "            \n",
    "    return cheaters\n",
    "\n",
    "cheaters = find_cheaters()\n",
    "print(cheaters)"
   ]
  },
  {
   "cell_type": "markdown",
   "metadata": {},
   "source": [
    "- The cheaters are Addie Maharaj and Jaraham Eidda"
   ]
  },
  {
   "cell_type": "code",
   "execution_count": null,
   "metadata": {},
   "outputs": [],
   "source": []
  }
 ],
 "metadata": {
  "kernelspec": {
   "display_name": "Python 3",
   "language": "python",
   "name": "python3"
  },
  "language_info": {
   "codemirror_mode": {
    "name": "ipython",
    "version": 3
   },
   "file_extension": ".py",
   "mimetype": "text/x-python",
   "name": "python",
   "nbconvert_exporter": "python",
   "pygments_lexer": "ipython3",
   "version": "3.7.6"
  }
 },
 "nbformat": 4,
 "nbformat_minor": 4
}
